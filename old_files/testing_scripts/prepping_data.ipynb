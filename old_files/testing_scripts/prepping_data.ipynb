{
 "metadata": {
  "language_info": {
   "codemirror_mode": {
    "name": "ipython",
    "version": 3
   },
   "file_extension": ".py",
   "mimetype": "text/x-python",
   "name": "python",
   "nbconvert_exporter": "python",
   "pygments_lexer": "ipython3",
   "version": "3.8.8"
  },
  "orig_nbformat": 4,
  "kernelspec": {
   "name": "python3",
   "display_name": "Python 3.8.8 64-bit ('base': conda)"
  },
  "interpreter": {
   "hash": "9c55446680d5435dcfad149676b5f9bdd40bd2288f3a0546b701a7eed2675e86"
  }
 },
 "nbformat": 4,
 "nbformat_minor": 2,
 "cells": [
  {
   "cell_type": "code",
   "execution_count": 1,
   "metadata": {},
   "outputs": [],
   "source": [
    "import pandas as pd\n",
    "import os\n",
    "import time"
   ]
  },
  {
   "cell_type": "code",
   "execution_count": 2,
   "metadata": {},
   "outputs": [
    {
     "output_type": "execute_result",
     "data": {
      "text/plain": [
       "   id                               title  \\\n",
       "0   0  Chickpeas with harissa and yoghurt   \n",
       "1   1     Chickpea, spinach and egg curry   \n",
       "2   2     Tomato, chickpea and pasta soup   \n",
       "3   3      Tom Kerridge's beef stroganoff   \n",
       "4   4                         Prawn laksa   \n",
       "\n",
       "                                         description  \\\n",
       "0  Chickpeas are filling, delicious, easy to cook...   \n",
       "1  This vegetarian low-calorie chickpea curry mak...   \n",
       "2  This cheap, quick and easy soup is based on an...   \n",
       "3  This classic creamy beef stroganoff recipe is ...   \n",
       "4  Fragrant, spicy and coconutty, prawn laksa is ...   \n",
       "\n",
       "                                          recipeLink  \\\n",
       "0  https://www.bbc.co.uk/food/recipes/chickpeas_w...   \n",
       "1  https://www.bbc.co.uk/food/recipes/chickpea_sp...   \n",
       "2  https://www.bbc.co.uk/food/recipes/tomato_chic...   \n",
       "3  https://www.bbc.co.uk/food/recipes/beef_stroga...   \n",
       "4  https://www.bbc.co.uk/food/recipes/prawn_laksa...   \n",
       "\n",
       "                                            keywords recipeType  ratingCount  \\\n",
       "0  quick, 10-minute meals, easy chickpea, afforda...     Recipe         16.0   \n",
       "1  quick, easy chickpea, 500-calorie dinners, 6 q...     Recipe         51.0   \n",
       "2  quick, easy chickpea, 15 minute meals, 20 minu...     Recipe         17.0   \n",
       "3  quick, fresh start for 1-2, luxury weeknight m...     Recipe         34.0   \n",
       "4  quick, 30 minute dinners, round the world on a...     Recipe          3.0   \n",
       "\n",
       "    ratingValue authorType        authorName    prepTime    cookTime  \\\n",
       "0  4.875000e+03     Person  Justine Pattison  0.00:30:00  0.00:30:00   \n",
       "1  4.313730e+15     Person   Sunil Vijayakar  0.00:30:00  0.00:30:00   \n",
       "2  4.588240e+15     Person     Rachel Phipps  0.00:30:00  0.00:30:00   \n",
       "3  4.764710e+15     Person      Tom Kerridge  0.00:30:00  0.00:30:00   \n",
       "4  5.000000e+00     Person   Sunil Vijayakar  0.00:30:00  0.00:30:00   \n",
       "\n",
       "         recipeCategory              recipeCuisine   serving  \\\n",
       "0  Light meals & snacks                        NaN  Serves 2   \n",
       "1           Main course                     Indian  Serves 2   \n",
       "2  Light meals & snacks                    Italian  Serves 2   \n",
       "3           Main course              East European  Serves 2   \n",
       "4           Main course  Thai and South-East Asian  Serves 2   \n",
       "\n",
       "                                           nutrition  \\\n",
       "0                                                NaN   \n",
       "1  {'calories': '441kcal', 'carbohydrateContent':...   \n",
       "2  {'calories': '391kcal', 'carbohydrateContent':...   \n",
       "3  {'calories': '795kcal', 'carbohydrateContent':...   \n",
       "4  {'calories': '756kcal', 'carbohydrateContent':...   \n",
       "\n",
       "                                     suitableForDiet gotImage  \n",
       "0  ['http://schema.org/GlutenFreeDiet', 'http://s...    FALSO  \n",
       "1  ['http://schema.org/LowLactoseDiet', 'http://s...    FALSO  \n",
       "2  ['http://schema.org/LowLactoseDiet', 'http://s...    FALSO  \n",
       "3                                                 []    FALSO  \n",
       "4  ['http://schema.org/LowLactoseDiet', 'http://s...    FALSO  "
      ],
      "text/html": "<div>\n<style scoped>\n    .dataframe tbody tr th:only-of-type {\n        vertical-align: middle;\n    }\n\n    .dataframe tbody tr th {\n        vertical-align: top;\n    }\n\n    .dataframe thead th {\n        text-align: right;\n    }\n</style>\n<table border=\"1\" class=\"dataframe\">\n  <thead>\n    <tr style=\"text-align: right;\">\n      <th></th>\n      <th>id</th>\n      <th>title</th>\n      <th>description</th>\n      <th>recipeLink</th>\n      <th>keywords</th>\n      <th>recipeType</th>\n      <th>ratingCount</th>\n      <th>ratingValue</th>\n      <th>authorType</th>\n      <th>authorName</th>\n      <th>prepTime</th>\n      <th>cookTime</th>\n      <th>recipeCategory</th>\n      <th>recipeCuisine</th>\n      <th>serving</th>\n      <th>nutrition</th>\n      <th>suitableForDiet</th>\n      <th>gotImage</th>\n    </tr>\n  </thead>\n  <tbody>\n    <tr>\n      <th>0</th>\n      <td>0</td>\n      <td>Chickpeas with harissa and yoghurt</td>\n      <td>Chickpeas are filling, delicious, easy to cook...</td>\n      <td>https://www.bbc.co.uk/food/recipes/chickpeas_w...</td>\n      <td>quick, 10-minute meals, easy chickpea, afforda...</td>\n      <td>Recipe</td>\n      <td>16.0</td>\n      <td>4.875000e+03</td>\n      <td>Person</td>\n      <td>Justine Pattison</td>\n      <td>0.00:30:00</td>\n      <td>0.00:30:00</td>\n      <td>Light meals &amp; snacks</td>\n      <td>NaN</td>\n      <td>Serves 2</td>\n      <td>NaN</td>\n      <td>['http://schema.org/GlutenFreeDiet', 'http://s...</td>\n      <td>FALSO</td>\n    </tr>\n    <tr>\n      <th>1</th>\n      <td>1</td>\n      <td>Chickpea, spinach and egg curry</td>\n      <td>This vegetarian low-calorie chickpea curry mak...</td>\n      <td>https://www.bbc.co.uk/food/recipes/chickpea_sp...</td>\n      <td>quick, easy chickpea, 500-calorie dinners, 6 q...</td>\n      <td>Recipe</td>\n      <td>51.0</td>\n      <td>4.313730e+15</td>\n      <td>Person</td>\n      <td>Sunil Vijayakar</td>\n      <td>0.00:30:00</td>\n      <td>0.00:30:00</td>\n      <td>Main course</td>\n      <td>Indian</td>\n      <td>Serves 2</td>\n      <td>{'calories': '441kcal', 'carbohydrateContent':...</td>\n      <td>['http://schema.org/LowLactoseDiet', 'http://s...</td>\n      <td>FALSO</td>\n    </tr>\n    <tr>\n      <th>2</th>\n      <td>2</td>\n      <td>Tomato, chickpea and pasta soup</td>\n      <td>This cheap, quick and easy soup is based on an...</td>\n      <td>https://www.bbc.co.uk/food/recipes/tomato_chic...</td>\n      <td>quick, easy chickpea, 15 minute meals, 20 minu...</td>\n      <td>Recipe</td>\n      <td>17.0</td>\n      <td>4.588240e+15</td>\n      <td>Person</td>\n      <td>Rachel Phipps</td>\n      <td>0.00:30:00</td>\n      <td>0.00:30:00</td>\n      <td>Light meals &amp; snacks</td>\n      <td>Italian</td>\n      <td>Serves 2</td>\n      <td>{'calories': '391kcal', 'carbohydrateContent':...</td>\n      <td>['http://schema.org/LowLactoseDiet', 'http://s...</td>\n      <td>FALSO</td>\n    </tr>\n    <tr>\n      <th>3</th>\n      <td>3</td>\n      <td>Tom Kerridge's beef stroganoff</td>\n      <td>This classic creamy beef stroganoff recipe is ...</td>\n      <td>https://www.bbc.co.uk/food/recipes/beef_stroga...</td>\n      <td>quick, fresh start for 1-2, luxury weeknight m...</td>\n      <td>Recipe</td>\n      <td>34.0</td>\n      <td>4.764710e+15</td>\n      <td>Person</td>\n      <td>Tom Kerridge</td>\n      <td>0.00:30:00</td>\n      <td>0.00:30:00</td>\n      <td>Main course</td>\n      <td>East European</td>\n      <td>Serves 2</td>\n      <td>{'calories': '795kcal', 'carbohydrateContent':...</td>\n      <td>[]</td>\n      <td>FALSO</td>\n    </tr>\n    <tr>\n      <th>4</th>\n      <td>4</td>\n      <td>Prawn laksa</td>\n      <td>Fragrant, spicy and coconutty, prawn laksa is ...</td>\n      <td>https://www.bbc.co.uk/food/recipes/prawn_laksa...</td>\n      <td>quick, 30 minute dinners, round the world on a...</td>\n      <td>Recipe</td>\n      <td>3.0</td>\n      <td>5.000000e+00</td>\n      <td>Person</td>\n      <td>Sunil Vijayakar</td>\n      <td>0.00:30:00</td>\n      <td>0.00:30:00</td>\n      <td>Main course</td>\n      <td>Thai and South-East Asian</td>\n      <td>Serves 2</td>\n      <td>{'calories': '756kcal', 'carbohydrateContent':...</td>\n      <td>['http://schema.org/LowLactoseDiet', 'http://s...</td>\n      <td>FALSO</td>\n    </tr>\n  </tbody>\n</table>\n</div>"
     },
     "metadata": {},
     "execution_count": 2
    }
   ],
   "source": [
    "# Importing csv\n",
    "recipes = pd.read_csv(os.path.join('recipes', 'recipes.csv'))\n",
    "number_recipes_initial = recipes.shape[0]\n",
    "recipes.head()"
   ]
  },
  {
   "cell_type": "code",
   "execution_count": 3,
   "metadata": {},
   "outputs": [
    {
     "output_type": "execute_result",
     "data": {
      "text/plain": [
       "   id                               title  \\\n",
       "0   0  Chickpeas with harissa and yoghurt   \n",
       "1   1     Chickpea, spinach and egg curry   \n",
       "2   2     Tomato, chickpea and pasta soup   \n",
       "3   3      Tom Kerridge's beef stroganoff   \n",
       "4   4                         Prawn laksa   \n",
       "\n",
       "                                         description  \\\n",
       "0  Chickpeas are filling, delicious, easy to cook...   \n",
       "1  This vegetarian low-calorie chickpea curry mak...   \n",
       "2  This cheap, quick and easy soup is based on an...   \n",
       "3  This classic creamy beef stroganoff recipe is ...   \n",
       "4  Fragrant, spicy and coconutty, prawn laksa is ...   \n",
       "\n",
       "                                          recipeLink  \\\n",
       "0  https://www.bbc.co.uk/food/recipes/chickpeas_w...   \n",
       "1  https://www.bbc.co.uk/food/recipes/chickpea_sp...   \n",
       "2  https://www.bbc.co.uk/food/recipes/tomato_chic...   \n",
       "3  https://www.bbc.co.uk/food/recipes/beef_stroga...   \n",
       "4  https://www.bbc.co.uk/food/recipes/prawn_laksa...   \n",
       "\n",
       "                                            keywords recipeType  ratingCount  \\\n",
       "0  quick, 10-minute meals, easy chickpea, afforda...     Recipe         16.0   \n",
       "1  quick, easy chickpea, 500-calorie dinners, 6 q...     Recipe         51.0   \n",
       "2  quick, easy chickpea, 15 minute meals, 20 minu...     Recipe         17.0   \n",
       "3  quick, fresh start for 1-2, luxury weeknight m...     Recipe         34.0   \n",
       "4  quick, 30 minute dinners, round the world on a...     Recipe          3.0   \n",
       "\n",
       "    ratingValue authorType        authorName    prepTime    cookTime  \\\n",
       "0  4.875000e+03     Person  Justine Pattison  0.00:30:00  0.00:30:00   \n",
       "1  4.313730e+15     Person   Sunil Vijayakar  0.00:30:00  0.00:30:00   \n",
       "2  4.588240e+15     Person     Rachel Phipps  0.00:30:00  0.00:30:00   \n",
       "3  4.764710e+15     Person      Tom Kerridge  0.00:30:00  0.00:30:00   \n",
       "4  5.000000e+00     Person   Sunil Vijayakar  0.00:30:00  0.00:30:00   \n",
       "\n",
       "         recipeCategory              recipeCuisine   serving  \\\n",
       "0  Light meals & snacks                        NaN  Serves 2   \n",
       "1           Main course                     Indian  Serves 2   \n",
       "2  Light meals & snacks                    Italian  Serves 2   \n",
       "3           Main course              East European  Serves 2   \n",
       "4           Main course  Thai and South-East Asian  Serves 2   \n",
       "\n",
       "                                           nutrition  \\\n",
       "0                                                NaN   \n",
       "1  {'calories': '441kcal', 'carbohydrateContent':...   \n",
       "2  {'calories': '391kcal', 'carbohydrateContent':...   \n",
       "3  {'calories': '795kcal', 'carbohydrateContent':...   \n",
       "4  {'calories': '756kcal', 'carbohydrateContent':...   \n",
       "\n",
       "                                     suitableForDiet gotImage  \n",
       "0  ['http://schema.org/GlutenFreeDiet', 'http://s...    FALSO  \n",
       "1  ['http://schema.org/LowLactoseDiet', 'http://s...    FALSO  \n",
       "2  ['http://schema.org/LowLactoseDiet', 'http://s...    FALSO  \n",
       "3                                                 []    FALSO  \n",
       "4  ['http://schema.org/LowLactoseDiet', 'http://s...    FALSO  "
      ],
      "text/html": "<div>\n<style scoped>\n    .dataframe tbody tr th:only-of-type {\n        vertical-align: middle;\n    }\n\n    .dataframe tbody tr th {\n        vertical-align: top;\n    }\n\n    .dataframe thead th {\n        text-align: right;\n    }\n</style>\n<table border=\"1\" class=\"dataframe\">\n  <thead>\n    <tr style=\"text-align: right;\">\n      <th></th>\n      <th>id</th>\n      <th>title</th>\n      <th>description</th>\n      <th>recipeLink</th>\n      <th>keywords</th>\n      <th>recipeType</th>\n      <th>ratingCount</th>\n      <th>ratingValue</th>\n      <th>authorType</th>\n      <th>authorName</th>\n      <th>prepTime</th>\n      <th>cookTime</th>\n      <th>recipeCategory</th>\n      <th>recipeCuisine</th>\n      <th>serving</th>\n      <th>nutrition</th>\n      <th>suitableForDiet</th>\n      <th>gotImage</th>\n    </tr>\n  </thead>\n  <tbody>\n    <tr>\n      <th>0</th>\n      <td>0</td>\n      <td>Chickpeas with harissa and yoghurt</td>\n      <td>Chickpeas are filling, delicious, easy to cook...</td>\n      <td>https://www.bbc.co.uk/food/recipes/chickpeas_w...</td>\n      <td>quick, 10-minute meals, easy chickpea, afforda...</td>\n      <td>Recipe</td>\n      <td>16.0</td>\n      <td>4.875000e+03</td>\n      <td>Person</td>\n      <td>Justine Pattison</td>\n      <td>0.00:30:00</td>\n      <td>0.00:30:00</td>\n      <td>Light meals &amp; snacks</td>\n      <td>NaN</td>\n      <td>Serves 2</td>\n      <td>NaN</td>\n      <td>['http://schema.org/GlutenFreeDiet', 'http://s...</td>\n      <td>FALSO</td>\n    </tr>\n    <tr>\n      <th>1</th>\n      <td>1</td>\n      <td>Chickpea, spinach and egg curry</td>\n      <td>This vegetarian low-calorie chickpea curry mak...</td>\n      <td>https://www.bbc.co.uk/food/recipes/chickpea_sp...</td>\n      <td>quick, easy chickpea, 500-calorie dinners, 6 q...</td>\n      <td>Recipe</td>\n      <td>51.0</td>\n      <td>4.313730e+15</td>\n      <td>Person</td>\n      <td>Sunil Vijayakar</td>\n      <td>0.00:30:00</td>\n      <td>0.00:30:00</td>\n      <td>Main course</td>\n      <td>Indian</td>\n      <td>Serves 2</td>\n      <td>{'calories': '441kcal', 'carbohydrateContent':...</td>\n      <td>['http://schema.org/LowLactoseDiet', 'http://s...</td>\n      <td>FALSO</td>\n    </tr>\n    <tr>\n      <th>2</th>\n      <td>2</td>\n      <td>Tomato, chickpea and pasta soup</td>\n      <td>This cheap, quick and easy soup is based on an...</td>\n      <td>https://www.bbc.co.uk/food/recipes/tomato_chic...</td>\n      <td>quick, easy chickpea, 15 minute meals, 20 minu...</td>\n      <td>Recipe</td>\n      <td>17.0</td>\n      <td>4.588240e+15</td>\n      <td>Person</td>\n      <td>Rachel Phipps</td>\n      <td>0.00:30:00</td>\n      <td>0.00:30:00</td>\n      <td>Light meals &amp; snacks</td>\n      <td>Italian</td>\n      <td>Serves 2</td>\n      <td>{'calories': '391kcal', 'carbohydrateContent':...</td>\n      <td>['http://schema.org/LowLactoseDiet', 'http://s...</td>\n      <td>FALSO</td>\n    </tr>\n    <tr>\n      <th>3</th>\n      <td>3</td>\n      <td>Tom Kerridge's beef stroganoff</td>\n      <td>This classic creamy beef stroganoff recipe is ...</td>\n      <td>https://www.bbc.co.uk/food/recipes/beef_stroga...</td>\n      <td>quick, fresh start for 1-2, luxury weeknight m...</td>\n      <td>Recipe</td>\n      <td>34.0</td>\n      <td>4.764710e+15</td>\n      <td>Person</td>\n      <td>Tom Kerridge</td>\n      <td>0.00:30:00</td>\n      <td>0.00:30:00</td>\n      <td>Main course</td>\n      <td>East European</td>\n      <td>Serves 2</td>\n      <td>{'calories': '795kcal', 'carbohydrateContent':...</td>\n      <td>[]</td>\n      <td>FALSO</td>\n    </tr>\n    <tr>\n      <th>4</th>\n      <td>4</td>\n      <td>Prawn laksa</td>\n      <td>Fragrant, spicy and coconutty, prawn laksa is ...</td>\n      <td>https://www.bbc.co.uk/food/recipes/prawn_laksa...</td>\n      <td>quick, 30 minute dinners, round the world on a...</td>\n      <td>Recipe</td>\n      <td>3.0</td>\n      <td>5.000000e+00</td>\n      <td>Person</td>\n      <td>Sunil Vijayakar</td>\n      <td>0.00:30:00</td>\n      <td>0.00:30:00</td>\n      <td>Main course</td>\n      <td>Thai and South-East Asian</td>\n      <td>Serves 2</td>\n      <td>{'calories': '756kcal', 'carbohydrateContent':...</td>\n      <td>['http://schema.org/LowLactoseDiet', 'http://s...</td>\n      <td>FALSO</td>\n    </tr>\n  </tbody>\n</table>\n</div>"
     },
     "metadata": {},
     "execution_count": 3
    }
   ],
   "source": [
    "# removing duplicates\n",
    "recipes.drop_duplicates(inplace=True, subset = ['title', 'description'])\n",
    "recipes.head()"
   ]
  },
  {
   "cell_type": "code",
   "execution_count": 4,
   "metadata": {},
   "outputs": [
    {
     "output_type": "execute_result",
     "data": {
      "text/plain": [
       "   id                            title  \\\n",
       "1   1  Chickpea, spinach and egg curry   \n",
       "2   2  Tomato, chickpea and pasta soup   \n",
       "3   3   Tom Kerridge's beef stroganoff   \n",
       "4   4                      Prawn laksa   \n",
       "7   7               Broad bean risotto   \n",
       "\n",
       "                                         description recipeType  ratingCount  \\\n",
       "1  This vegetarian low-calorie chickpea curry mak...     Recipe         51.0   \n",
       "2  This cheap, quick and easy soup is based on an...     Recipe         17.0   \n",
       "3  This classic creamy beef stroganoff recipe is ...     Recipe         34.0   \n",
       "4  Fragrant, spicy and coconutty, prawn laksa is ...     Recipe          3.0   \n",
       "7  A simple vegetarian risotto by the Hairy Biker...     Recipe          7.0   \n",
       "\n",
       "    ratingValue    prepTime    cookTime        recipeCategory  \\\n",
       "1  4.313730e+15  0.00:30:00  0.00:30:00           Main course   \n",
       "2  4.588240e+15  0.00:30:00  0.00:30:00  Light meals & snacks   \n",
       "3  4.764710e+15  0.00:30:00  0.00:30:00           Main course   \n",
       "4  5.000000e+00  0.00:30:00  0.00:30:00           Main course   \n",
       "7  4.571430e+15  0.00:30:00  0.00:30:00           Main course   \n",
       "\n",
       "               recipeCuisine  \n",
       "1                     Indian  \n",
       "2                    Italian  \n",
       "3              East European  \n",
       "4  Thai and South-East Asian  \n",
       "7                    Italian  "
      ],
      "text/html": "<div>\n<style scoped>\n    .dataframe tbody tr th:only-of-type {\n        vertical-align: middle;\n    }\n\n    .dataframe tbody tr th {\n        vertical-align: top;\n    }\n\n    .dataframe thead th {\n        text-align: right;\n    }\n</style>\n<table border=\"1\" class=\"dataframe\">\n  <thead>\n    <tr style=\"text-align: right;\">\n      <th></th>\n      <th>id</th>\n      <th>title</th>\n      <th>description</th>\n      <th>recipeType</th>\n      <th>ratingCount</th>\n      <th>ratingValue</th>\n      <th>prepTime</th>\n      <th>cookTime</th>\n      <th>recipeCategory</th>\n      <th>recipeCuisine</th>\n    </tr>\n  </thead>\n  <tbody>\n    <tr>\n      <th>1</th>\n      <td>1</td>\n      <td>Chickpea, spinach and egg curry</td>\n      <td>This vegetarian low-calorie chickpea curry mak...</td>\n      <td>Recipe</td>\n      <td>51.0</td>\n      <td>4.313730e+15</td>\n      <td>0.00:30:00</td>\n      <td>0.00:30:00</td>\n      <td>Main course</td>\n      <td>Indian</td>\n    </tr>\n    <tr>\n      <th>2</th>\n      <td>2</td>\n      <td>Tomato, chickpea and pasta soup</td>\n      <td>This cheap, quick and easy soup is based on an...</td>\n      <td>Recipe</td>\n      <td>17.0</td>\n      <td>4.588240e+15</td>\n      <td>0.00:30:00</td>\n      <td>0.00:30:00</td>\n      <td>Light meals &amp; snacks</td>\n      <td>Italian</td>\n    </tr>\n    <tr>\n      <th>3</th>\n      <td>3</td>\n      <td>Tom Kerridge's beef stroganoff</td>\n      <td>This classic creamy beef stroganoff recipe is ...</td>\n      <td>Recipe</td>\n      <td>34.0</td>\n      <td>4.764710e+15</td>\n      <td>0.00:30:00</td>\n      <td>0.00:30:00</td>\n      <td>Main course</td>\n      <td>East European</td>\n    </tr>\n    <tr>\n      <th>4</th>\n      <td>4</td>\n      <td>Prawn laksa</td>\n      <td>Fragrant, spicy and coconutty, prawn laksa is ...</td>\n      <td>Recipe</td>\n      <td>3.0</td>\n      <td>5.000000e+00</td>\n      <td>0.00:30:00</td>\n      <td>0.00:30:00</td>\n      <td>Main course</td>\n      <td>Thai and South-East Asian</td>\n    </tr>\n    <tr>\n      <th>7</th>\n      <td>7</td>\n      <td>Broad bean risotto</td>\n      <td>A simple vegetarian risotto by the Hairy Biker...</td>\n      <td>Recipe</td>\n      <td>7.0</td>\n      <td>4.571430e+15</td>\n      <td>0.00:30:00</td>\n      <td>0.00:30:00</td>\n      <td>Main course</td>\n      <td>Italian</td>\n    </tr>\n  </tbody>\n</table>\n</div>"
     },
     "metadata": {},
     "execution_count": 4
    }
   ],
   "source": [
    "# selecting relevant columns\n",
    "labels = ['id', 'title', 'description', 'recipeType', 'ratingCount', 'ratingValue', 'prepTime', 'cookTime', 'recipeCategory', 'recipeCuisine']\n",
    "recipes = recipes[labels]\n",
    "# droping na\n",
    "recipes.dropna(axis='rows', inplace=True)\n",
    "recipes.head()"
   ]
  },
  {
   "cell_type": "code",
   "execution_count": 5,
   "metadata": {},
   "outputs": [],
   "source": [
    "# fixing rating value\n",
    "\n",
    "def get_rating(number):\n",
    "    string = str(number)[:2]\n",
    "    rating = float(string)/10\n",
    "    return rating"
   ]
  },
  {
   "cell_type": "code",
   "execution_count": 6,
   "metadata": {},
   "outputs": [],
   "source": [
    "recipes['ratingValue'] = recipes['ratingValue'].apply(get_rating)"
   ]
  },
  {
   "cell_type": "code",
   "execution_count": 7,
   "metadata": {},
   "outputs": [],
   "source": [
    "# filtering through rating count and rating value\n",
    "count_treshold = 10\n",
    "value_treshold = 3.0\n",
    "\n",
    "recipes = recipes[recipes['ratingCount']>count_treshold]\n",
    "recipes = recipes[recipes['ratingValue']>value_treshold]\n"
   ]
  },
  {
   "cell_type": "code",
   "execution_count": 8,
   "metadata": {},
   "outputs": [
    {
     "output_type": "execute_result",
     "data": {
      "text/plain": [
       "    id                            title  \\\n",
       "1    1  Chickpea, spinach and egg curry   \n",
       "2    2  Tomato, chickpea and pasta soup   \n",
       "3    3   Tom Kerridge's beef stroganoff   \n",
       "14  14                    Apple crumble   \n",
       "15  15             Aubergine parmigiana   \n",
       "\n",
       "                                          description recipeType  ratingCount  \\\n",
       "1   This vegetarian low-calorie chickpea curry mak...     Recipe         51.0   \n",
       "2   This cheap, quick and easy soup is based on an...     Recipe         17.0   \n",
       "3   This classic creamy beef stroganoff recipe is ...     Recipe         34.0   \n",
       "14  This is the easiest apple crumble recipe and a...     Recipe         92.0   \n",
       "15  Donal's aubergine parmigiana is so easy to mak...     Recipe         21.0   \n",
       "\n",
       "    ratingValue    prepTime    cookTime        recipeCategory  recipeCuisine  \n",
       "1           4.3  0.00:30:00  0.00:30:00           Main course         Indian  \n",
       "2           4.5  0.00:30:00  0.00:30:00  Light meals & snacks        Italian  \n",
       "3           4.7  0.00:30:00  0.00:30:00           Main course  East European  \n",
       "14          4.4  0.00:30:00  0.01:00:00              Desserts        British  \n",
       "15          4.6  0.00:30:00  0.01:00:00           Main course        Italian  "
      ],
      "text/html": "<div>\n<style scoped>\n    .dataframe tbody tr th:only-of-type {\n        vertical-align: middle;\n    }\n\n    .dataframe tbody tr th {\n        vertical-align: top;\n    }\n\n    .dataframe thead th {\n        text-align: right;\n    }\n</style>\n<table border=\"1\" class=\"dataframe\">\n  <thead>\n    <tr style=\"text-align: right;\">\n      <th></th>\n      <th>id</th>\n      <th>title</th>\n      <th>description</th>\n      <th>recipeType</th>\n      <th>ratingCount</th>\n      <th>ratingValue</th>\n      <th>prepTime</th>\n      <th>cookTime</th>\n      <th>recipeCategory</th>\n      <th>recipeCuisine</th>\n    </tr>\n  </thead>\n  <tbody>\n    <tr>\n      <th>1</th>\n      <td>1</td>\n      <td>Chickpea, spinach and egg curry</td>\n      <td>This vegetarian low-calorie chickpea curry mak...</td>\n      <td>Recipe</td>\n      <td>51.0</td>\n      <td>4.3</td>\n      <td>0.00:30:00</td>\n      <td>0.00:30:00</td>\n      <td>Main course</td>\n      <td>Indian</td>\n    </tr>\n    <tr>\n      <th>2</th>\n      <td>2</td>\n      <td>Tomato, chickpea and pasta soup</td>\n      <td>This cheap, quick and easy soup is based on an...</td>\n      <td>Recipe</td>\n      <td>17.0</td>\n      <td>4.5</td>\n      <td>0.00:30:00</td>\n      <td>0.00:30:00</td>\n      <td>Light meals &amp; snacks</td>\n      <td>Italian</td>\n    </tr>\n    <tr>\n      <th>3</th>\n      <td>3</td>\n      <td>Tom Kerridge's beef stroganoff</td>\n      <td>This classic creamy beef stroganoff recipe is ...</td>\n      <td>Recipe</td>\n      <td>34.0</td>\n      <td>4.7</td>\n      <td>0.00:30:00</td>\n      <td>0.00:30:00</td>\n      <td>Main course</td>\n      <td>East European</td>\n    </tr>\n    <tr>\n      <th>14</th>\n      <td>14</td>\n      <td>Apple crumble</td>\n      <td>This is the easiest apple crumble recipe and a...</td>\n      <td>Recipe</td>\n      <td>92.0</td>\n      <td>4.4</td>\n      <td>0.00:30:00</td>\n      <td>0.01:00:00</td>\n      <td>Desserts</td>\n      <td>British</td>\n    </tr>\n    <tr>\n      <th>15</th>\n      <td>15</td>\n      <td>Aubergine parmigiana</td>\n      <td>Donal's aubergine parmigiana is so easy to mak...</td>\n      <td>Recipe</td>\n      <td>21.0</td>\n      <td>4.6</td>\n      <td>0.00:30:00</td>\n      <td>0.01:00:00</td>\n      <td>Main course</td>\n      <td>Italian</td>\n    </tr>\n  </tbody>\n</table>\n</div>"
     },
     "metadata": {},
     "execution_count": 8
    }
   ],
   "source": [
    "recipes.head()"
   ]
  },
  {
   "cell_type": "code",
   "execution_count": 9,
   "metadata": {},
   "outputs": [],
   "source": [
    "# fixing times\n",
    "def get_time(time_string):\n",
    "    return  time.strptime(time_string[2:], '%H:%M:%S').tm_min"
   ]
  },
  {
   "cell_type": "code",
   "execution_count": 10,
   "metadata": {},
   "outputs": [],
   "source": [
    "recipes['prepTime'] = recipes['prepTime'].apply(get_time)\n",
    "recipes['cookTime'] = recipes['cookTime'].apply(get_time)"
   ]
  },
  {
   "cell_type": "code",
   "execution_count": 11,
   "metadata": {},
   "outputs": [
    {
     "output_type": "execute_result",
     "data": {
      "text/plain": [
       "    id                            title  \\\n",
       "1    1  Chickpea, spinach and egg curry   \n",
       "2    2  Tomato, chickpea and pasta soup   \n",
       "3    3   Tom Kerridge's beef stroganoff   \n",
       "14  14                    Apple crumble   \n",
       "15  15             Aubergine parmigiana   \n",
       "\n",
       "                                          description recipeType  ratingCount  \\\n",
       "1   This vegetarian low-calorie chickpea curry mak...     Recipe         51.0   \n",
       "2   This cheap, quick and easy soup is based on an...     Recipe         17.0   \n",
       "3   This classic creamy beef stroganoff recipe is ...     Recipe         34.0   \n",
       "14  This is the easiest apple crumble recipe and a...     Recipe         92.0   \n",
       "15  Donal's aubergine parmigiana is so easy to mak...     Recipe         21.0   \n",
       "\n",
       "    ratingValue  prepTime  cookTime        recipeCategory  recipeCuisine  \n",
       "1           4.3        30        30           Main course         Indian  \n",
       "2           4.5        30        30  Light meals & snacks        Italian  \n",
       "3           4.7        30        30           Main course  East European  \n",
       "14          4.4        30         0              Desserts        British  \n",
       "15          4.6        30         0           Main course        Italian  "
      ],
      "text/html": "<div>\n<style scoped>\n    .dataframe tbody tr th:only-of-type {\n        vertical-align: middle;\n    }\n\n    .dataframe tbody tr th {\n        vertical-align: top;\n    }\n\n    .dataframe thead th {\n        text-align: right;\n    }\n</style>\n<table border=\"1\" class=\"dataframe\">\n  <thead>\n    <tr style=\"text-align: right;\">\n      <th></th>\n      <th>id</th>\n      <th>title</th>\n      <th>description</th>\n      <th>recipeType</th>\n      <th>ratingCount</th>\n      <th>ratingValue</th>\n      <th>prepTime</th>\n      <th>cookTime</th>\n      <th>recipeCategory</th>\n      <th>recipeCuisine</th>\n    </tr>\n  </thead>\n  <tbody>\n    <tr>\n      <th>1</th>\n      <td>1</td>\n      <td>Chickpea, spinach and egg curry</td>\n      <td>This vegetarian low-calorie chickpea curry mak...</td>\n      <td>Recipe</td>\n      <td>51.0</td>\n      <td>4.3</td>\n      <td>30</td>\n      <td>30</td>\n      <td>Main course</td>\n      <td>Indian</td>\n    </tr>\n    <tr>\n      <th>2</th>\n      <td>2</td>\n      <td>Tomato, chickpea and pasta soup</td>\n      <td>This cheap, quick and easy soup is based on an...</td>\n      <td>Recipe</td>\n      <td>17.0</td>\n      <td>4.5</td>\n      <td>30</td>\n      <td>30</td>\n      <td>Light meals &amp; snacks</td>\n      <td>Italian</td>\n    </tr>\n    <tr>\n      <th>3</th>\n      <td>3</td>\n      <td>Tom Kerridge's beef stroganoff</td>\n      <td>This classic creamy beef stroganoff recipe is ...</td>\n      <td>Recipe</td>\n      <td>34.0</td>\n      <td>4.7</td>\n      <td>30</td>\n      <td>30</td>\n      <td>Main course</td>\n      <td>East European</td>\n    </tr>\n    <tr>\n      <th>14</th>\n      <td>14</td>\n      <td>Apple crumble</td>\n      <td>This is the easiest apple crumble recipe and a...</td>\n      <td>Recipe</td>\n      <td>92.0</td>\n      <td>4.4</td>\n      <td>30</td>\n      <td>0</td>\n      <td>Desserts</td>\n      <td>British</td>\n    </tr>\n    <tr>\n      <th>15</th>\n      <td>15</td>\n      <td>Aubergine parmigiana</td>\n      <td>Donal's aubergine parmigiana is so easy to mak...</td>\n      <td>Recipe</td>\n      <td>21.0</td>\n      <td>4.6</td>\n      <td>30</td>\n      <td>0</td>\n      <td>Main course</td>\n      <td>Italian</td>\n    </tr>\n  </tbody>\n</table>\n</div>"
     },
     "metadata": {},
     "execution_count": 11
    }
   ],
   "source": [
    "recipes.head()"
   ]
  },
  {
   "cell_type": "code",
   "execution_count": 12,
   "metadata": {},
   "outputs": [],
   "source": [
    "recipes.reset_index(drop=True, inplace=True)"
   ]
  },
  {
   "cell_type": "code",
   "execution_count": 13,
   "metadata": {},
   "outputs": [],
   "source": [
    "recipes['classification'] = None"
   ]
  },
  {
   "cell_type": "code",
   "execution_count": 14,
   "metadata": {},
   "outputs": [
    {
     "output_type": "stream",
     "name": "stdout",
     "text": [
      "Got a total of 328 recipes.\nWhich is 6.0 % from initial db\n"
     ]
    }
   ],
   "source": [
    "number_recipes_final = recipes.shape[0]\n",
    "print(f'Got a total of {number_recipes_final} recipes.')\n",
    "print(f'Which is {100 * round(number_recipes_final/number_recipes_initial, 2)} % from initial db')"
   ]
  },
  {
   "cell_type": "code",
   "execution_count": 15,
   "metadata": {},
   "outputs": [],
   "source": [
    "recipes.to_csv('formated_recipes.csv', index=False)"
   ]
  }
 ]
}