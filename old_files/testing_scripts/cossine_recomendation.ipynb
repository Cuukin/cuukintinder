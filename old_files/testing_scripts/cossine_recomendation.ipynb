{
 "metadata": {
  "language_info": {
   "codemirror_mode": {
    "name": "ipython",
    "version": 3
   },
   "file_extension": ".py",
   "mimetype": "text/x-python",
   "name": "python",
   "nbconvert_exporter": "python",
   "pygments_lexer": "ipython3",
   "version": "3.8.8"
  },
  "orig_nbformat": 4,
  "kernelspec": {
   "name": "python3",
   "display_name": "Python 3.8.8 64-bit ('base': conda)"
  },
  "interpreter": {
   "hash": "9c55446680d5435dcfad149676b5f9bdd40bd2288f3a0546b701a7eed2675e86"
  }
 },
 "nbformat": 4,
 "nbformat_minor": 2,
 "cells": [
  {
   "cell_type": "code",
   "execution_count": 1,
   "metadata": {},
   "outputs": [],
   "source": [
    "import pandas as pd\n",
    "import numpy as np"
   ]
  },
  {
   "cell_type": "code",
   "execution_count": 2,
   "metadata": {},
   "outputs": [
    {
     "output_type": "execute_result",
     "data": {
      "text/plain": [
       "   id                               title  \\\n",
       "0   0  Chickpeas with harissa and yoghurt   \n",
       "1   1     Chickpea, spinach and egg curry   \n",
       "\n",
       "                                         description  \\\n",
       "0  Chickpeas are filling, delicious, easy to cook...   \n",
       "1  This vegetarian low-calorie chickpea curry mak...   \n",
       "\n",
       "                                          recipeLink  \\\n",
       "0  https://www.bbc.co.uk/food/recipes/chickpeas_w...   \n",
       "1  https://www.bbc.co.uk/food/recipes/chickpea_sp...   \n",
       "\n",
       "                                            keywords recipeType  ratingCount  \\\n",
       "0  quick, 10-minute meals, easy chickpea, afforda...     Recipe         16.0   \n",
       "1  quick, easy chickpea, 500-calorie dinners, 6 q...     Recipe         51.0   \n",
       "\n",
       "    ratingValue authorType        authorName    prepTime    cookTime  \\\n",
       "0  4.875000e+03     Person  Justine Pattison  0.00:30:00  0.00:30:00   \n",
       "1  4.313730e+15     Person   Sunil Vijayakar  0.00:30:00  0.00:30:00   \n",
       "\n",
       "         recipeCategory recipeCuisine   serving  \\\n",
       "0  Light meals & snacks           NaN  Serves 2   \n",
       "1           Main course        Indian  Serves 2   \n",
       "\n",
       "                                           nutrition  \\\n",
       "0                                                NaN   \n",
       "1  {'calories': '441kcal', 'carbohydrateContent':...   \n",
       "\n",
       "                                     suitableForDiet gotImage  \n",
       "0  ['http://schema.org/GlutenFreeDiet', 'http://s...    FALSO  \n",
       "1  ['http://schema.org/LowLactoseDiet', 'http://s...    FALSO  "
      ],
      "text/html": "<div>\n<style scoped>\n    .dataframe tbody tr th:only-of-type {\n        vertical-align: middle;\n    }\n\n    .dataframe tbody tr th {\n        vertical-align: top;\n    }\n\n    .dataframe thead th {\n        text-align: right;\n    }\n</style>\n<table border=\"1\" class=\"dataframe\">\n  <thead>\n    <tr style=\"text-align: right;\">\n      <th></th>\n      <th>id</th>\n      <th>title</th>\n      <th>description</th>\n      <th>recipeLink</th>\n      <th>keywords</th>\n      <th>recipeType</th>\n      <th>ratingCount</th>\n      <th>ratingValue</th>\n      <th>authorType</th>\n      <th>authorName</th>\n      <th>prepTime</th>\n      <th>cookTime</th>\n      <th>recipeCategory</th>\n      <th>recipeCuisine</th>\n      <th>serving</th>\n      <th>nutrition</th>\n      <th>suitableForDiet</th>\n      <th>gotImage</th>\n    </tr>\n  </thead>\n  <tbody>\n    <tr>\n      <th>0</th>\n      <td>0</td>\n      <td>Chickpeas with harissa and yoghurt</td>\n      <td>Chickpeas are filling, delicious, easy to cook...</td>\n      <td>https://www.bbc.co.uk/food/recipes/chickpeas_w...</td>\n      <td>quick, 10-minute meals, easy chickpea, afforda...</td>\n      <td>Recipe</td>\n      <td>16.0</td>\n      <td>4.875000e+03</td>\n      <td>Person</td>\n      <td>Justine Pattison</td>\n      <td>0.00:30:00</td>\n      <td>0.00:30:00</td>\n      <td>Light meals &amp; snacks</td>\n      <td>NaN</td>\n      <td>Serves 2</td>\n      <td>NaN</td>\n      <td>['http://schema.org/GlutenFreeDiet', 'http://s...</td>\n      <td>FALSO</td>\n    </tr>\n    <tr>\n      <th>1</th>\n      <td>1</td>\n      <td>Chickpea, spinach and egg curry</td>\n      <td>This vegetarian low-calorie chickpea curry mak...</td>\n      <td>https://www.bbc.co.uk/food/recipes/chickpea_sp...</td>\n      <td>quick, easy chickpea, 500-calorie dinners, 6 q...</td>\n      <td>Recipe</td>\n      <td>51.0</td>\n      <td>4.313730e+15</td>\n      <td>Person</td>\n      <td>Sunil Vijayakar</td>\n      <td>0.00:30:00</td>\n      <td>0.00:30:00</td>\n      <td>Main course</td>\n      <td>Indian</td>\n      <td>Serves 2</td>\n      <td>{'calories': '441kcal', 'carbohydrateContent':...</td>\n      <td>['http://schema.org/LowLactoseDiet', 'http://s...</td>\n      <td>FALSO</td>\n    </tr>\n  </tbody>\n</table>\n</div>"
     },
     "metadata": {},
     "execution_count": 2
    }
   ],
   "source": [
    "recipes = pd.read_csv('recipes/recipes.csv')\n",
    "recipes.head(2)"
   ]
  },
  {
   "cell_type": "code",
   "execution_count": 3,
   "metadata": {},
   "outputs": [
    {
     "output_type": "execute_result",
     "data": {
      "text/plain": [
       "5611"
      ]
     },
     "metadata": {},
     "execution_count": 3
    }
   ],
   "source": [
    "recipes.shape[0]"
   ]
  },
  {
   "cell_type": "code",
   "execution_count": 4,
   "metadata": {},
   "outputs": [],
   "source": [
    "recipes.drop_duplicates(inplace=True, subset = ['title', 'description'])"
   ]
  },
  {
   "cell_type": "code",
   "execution_count": 5,
   "metadata": {},
   "outputs": [
    {
     "output_type": "execute_result",
     "data": {
      "text/plain": [
       "2732"
      ]
     },
     "metadata": {},
     "execution_count": 5
    }
   ],
   "source": [
    "recipes.shape[0]"
   ]
  },
  {
   "cell_type": "code",
   "execution_count": 6,
   "metadata": {},
   "outputs": [],
   "source": [
    "recipes.dropna(axis='rows', inplace=True, subset=['ratingValue', 'ratingCount'])"
   ]
  },
  {
   "cell_type": "code",
   "execution_count": 7,
   "metadata": {},
   "outputs": [
    {
     "output_type": "execute_result",
     "data": {
      "text/plain": [
       "2258"
      ]
     },
     "metadata": {},
     "execution_count": 7
    }
   ],
   "source": [
    "recipes.shape[0]"
   ]
  },
  {
   "cell_type": "code",
   "execution_count": 8,
   "metadata": {},
   "outputs": [],
   "source": [
    "def get_rating(number):\n",
    "    string = str(number)[:2]\n",
    "    rating = float(string)/10\n",
    "    return rating\n",
    "\n",
    "recipes['ratingValue'] = recipes['ratingValue'].apply(get_rating)\n",
    "\n",
    "count_treshold = 10\n",
    "value_treshold = 3.0\n",
    "\n",
    "recipes = recipes[recipes['ratingCount']>count_treshold]\n",
    "recipes = recipes[recipes['ratingValue']>value_treshold]\n",
    "\n",
    "recipes.reset_index(drop=True, inplace=True)"
   ]
  },
  {
   "cell_type": "code",
   "execution_count": 9,
   "metadata": {},
   "outputs": [
    {
     "output_type": "execute_result",
     "data": {
      "text/plain": [
       "503"
      ]
     },
     "metadata": {},
     "execution_count": 9
    }
   ],
   "source": [
    "recipes.shape[0]"
   ]
  },
  {
   "cell_type": "code",
   "execution_count": 10,
   "metadata": {},
   "outputs": [],
   "source": [
    "indices = pd.Series(recipes.index, index=recipes['title'])"
   ]
  },
  {
   "cell_type": "code",
   "execution_count": 11,
   "metadata": {},
   "outputs": [
    {
     "output_type": "execute_result",
     "data": {
      "text/plain": [
       "   id                               title  \\\n",
       "0   0  Chickpeas with harissa and yoghurt   \n",
       "1   1     Chickpea, spinach and egg curry   \n",
       "\n",
       "                                            keywords        recipeCategory  \\\n",
       "0  quick, 10-minute meals, easy chickpea, afforda...  Light meals & snacks   \n",
       "1  quick, easy chickpea, 500-calorie dinners, 6 q...           Main course   \n",
       "\n",
       "  recipeCuisine  \n",
       "0           NaN  \n",
       "1        Indian  "
      ],
      "text/html": "<div>\n<style scoped>\n    .dataframe tbody tr th:only-of-type {\n        vertical-align: middle;\n    }\n\n    .dataframe tbody tr th {\n        vertical-align: top;\n    }\n\n    .dataframe thead th {\n        text-align: right;\n    }\n</style>\n<table border=\"1\" class=\"dataframe\">\n  <thead>\n    <tr style=\"text-align: right;\">\n      <th></th>\n      <th>id</th>\n      <th>title</th>\n      <th>keywords</th>\n      <th>recipeCategory</th>\n      <th>recipeCuisine</th>\n    </tr>\n  </thead>\n  <tbody>\n    <tr>\n      <th>0</th>\n      <td>0</td>\n      <td>Chickpeas with harissa and yoghurt</td>\n      <td>quick, 10-minute meals, easy chickpea, afforda...</td>\n      <td>Light meals &amp; snacks</td>\n      <td>NaN</td>\n    </tr>\n    <tr>\n      <th>1</th>\n      <td>1</td>\n      <td>Chickpea, spinach and egg curry</td>\n      <td>quick, easy chickpea, 500-calorie dinners, 6 q...</td>\n      <td>Main course</td>\n      <td>Indian</td>\n    </tr>\n  </tbody>\n</table>\n</div>"
     },
     "metadata": {},
     "execution_count": 11
    }
   ],
   "source": [
    "recipes.drop(columns=['recipeLink', 'authorType', 'prepTime', 'cookTime', 'serving', 'nutrition', 'suitableForDiet', 'gotImage', 'ratingCount', 'ratingValue', 'recipeType', 'description', 'authorName'], inplace=True)\n",
    "\n",
    "\n",
    "recipes.head(2)"
   ]
  },
  {
   "cell_type": "code",
   "execution_count": 12,
   "metadata": {},
   "outputs": [
    {
     "output_type": "execute_result",
     "data": {
      "text/plain": [
       "503"
      ]
     },
     "metadata": {},
     "execution_count": 12
    }
   ],
   "source": [
    "recipes.shape[0]"
   ]
  },
  {
   "cell_type": "code",
   "execution_count": 13,
   "metadata": {},
   "outputs": [],
   "source": [
    "def reduce_string(string):\n",
    "    if type(string) != 'str': string = str(string)\n",
    "    return string.lower().replace(' ', '')\n",
    "\n",
    "def reduce_keywords(string):\n",
    "    str_list = string.split(',')\n",
    "    reduced = [reduce_string(key) for key in str_list]\n",
    "    return ' '.join(reduced)"
   ]
  },
  {
   "cell_type": "code",
   "execution_count": 14,
   "metadata": {
    "tags": []
   },
   "outputs": [
    {
     "output_type": "execute_result",
     "data": {
      "text/plain": [
       "   id                               title  \\\n",
       "0   0  Chickpeas with harissa and yoghurt   \n",
       "1   1     Chickpea, spinach and egg curry   \n",
       "\n",
       "                                            keywords        recipeCategory  \\\n",
       "0  quick 10-minutemeals easychickpea affordable30...  Light meals & snacks   \n",
       "1  quick easychickpea 500-caloriedinners 6quickan...           Main course   \n",
       "\n",
       "  recipeCuisine  \n",
       "0           NaN  \n",
       "1        Indian  "
      ],
      "text/html": "<div>\n<style scoped>\n    .dataframe tbody tr th:only-of-type {\n        vertical-align: middle;\n    }\n\n    .dataframe tbody tr th {\n        vertical-align: top;\n    }\n\n    .dataframe thead th {\n        text-align: right;\n    }\n</style>\n<table border=\"1\" class=\"dataframe\">\n  <thead>\n    <tr style=\"text-align: right;\">\n      <th></th>\n      <th>id</th>\n      <th>title</th>\n      <th>keywords</th>\n      <th>recipeCategory</th>\n      <th>recipeCuisine</th>\n    </tr>\n  </thead>\n  <tbody>\n    <tr>\n      <th>0</th>\n      <td>0</td>\n      <td>Chickpeas with harissa and yoghurt</td>\n      <td>quick 10-minutemeals easychickpea affordable30...</td>\n      <td>Light meals &amp; snacks</td>\n      <td>NaN</td>\n    </tr>\n    <tr>\n      <th>1</th>\n      <td>1</td>\n      <td>Chickpea, spinach and egg curry</td>\n      <td>quick easychickpea 500-caloriedinners 6quickan...</td>\n      <td>Main course</td>\n      <td>Indian</td>\n    </tr>\n  </tbody>\n</table>\n</div>"
     },
     "metadata": {},
     "execution_count": 14
    }
   ],
   "source": [
    "recipes.keywords = recipes.keywords.apply(reduce_keywords)\n",
    "features = ['recipeCategory', 'recipeCuisine']\n",
    "\n",
    "\n",
    "recipes.head(2)"
   ]
  },
  {
   "cell_type": "code",
   "execution_count": 15,
   "metadata": {},
   "outputs": [
    {
     "output_type": "execute_result",
     "data": {
      "text/plain": [
       "   id                               title  \\\n",
       "0   0  Chickpeas with harissa and yoghurt   \n",
       "1   1     Chickpea, spinach and egg curry   \n",
       "\n",
       "                                            keywords     recipeCategory  \\\n",
       "0  quick 10-minutemeals easychickpea affordable30...  lightmeals&snacks   \n",
       "1  quick easychickpea 500-caloriedinners 6quickan...         maincourse   \n",
       "\n",
       "  recipeCuisine  \n",
       "0           nan  \n",
       "1        indian  "
      ],
      "text/html": "<div>\n<style scoped>\n    .dataframe tbody tr th:only-of-type {\n        vertical-align: middle;\n    }\n\n    .dataframe tbody tr th {\n        vertical-align: top;\n    }\n\n    .dataframe thead th {\n        text-align: right;\n    }\n</style>\n<table border=\"1\" class=\"dataframe\">\n  <thead>\n    <tr style=\"text-align: right;\">\n      <th></th>\n      <th>id</th>\n      <th>title</th>\n      <th>keywords</th>\n      <th>recipeCategory</th>\n      <th>recipeCuisine</th>\n    </tr>\n  </thead>\n  <tbody>\n    <tr>\n      <th>0</th>\n      <td>0</td>\n      <td>Chickpeas with harissa and yoghurt</td>\n      <td>quick 10-minutemeals easychickpea affordable30...</td>\n      <td>lightmeals&amp;snacks</td>\n      <td>nan</td>\n    </tr>\n    <tr>\n      <th>1</th>\n      <td>1</td>\n      <td>Chickpea, spinach and egg curry</td>\n      <td>quick easychickpea 500-caloriedinners 6quickan...</td>\n      <td>maincourse</td>\n      <td>indian</td>\n    </tr>\n  </tbody>\n</table>\n</div>"
     },
     "metadata": {},
     "execution_count": 15
    }
   ],
   "source": [
    "for feature in features:\n",
    "    recipes[feature] = recipes[feature].apply(reduce_string)\n",
    "\n",
    "recipes.head(2)"
   ]
  },
  {
   "cell_type": "code",
   "execution_count": 16,
   "metadata": {},
   "outputs": [],
   "source": [
    "# creating soup\n",
    "def create_soup(x):\n",
    "    labels = ['recipeCategory', 'recipeCuisine','keywords']\n",
    "    return ' '.join([x[label] for label in labels])"
   ]
  },
  {
   "cell_type": "code",
   "execution_count": 17,
   "metadata": {},
   "outputs": [
    {
     "output_type": "execute_result",
     "data": {
      "text/plain": [
       "   id                               title  \\\n",
       "0   0  Chickpeas with harissa and yoghurt   \n",
       "1   1     Chickpea, spinach and egg curry   \n",
       "2   2     Tomato, chickpea and pasta soup   \n",
       "3   3      Tom Kerridge's beef stroganoff   \n",
       "4  14                       Apple crumble   \n",
       "\n",
       "                                            keywords     recipeCategory  \\\n",
       "0  quick 10-minutemeals easychickpea affordable30...  lightmeals&snacks   \n",
       "1  quick easychickpea 500-caloriedinners 6quickan...         maincourse   \n",
       "2  quick easychickpea 15minutemeals 20minutemeals...  lightmeals&snacks   \n",
       "3  quick freshstartfor1-2 luxuryweeknightmeals mo...         maincourse   \n",
       "4  makethemostofapples traditionalroastbeefdinner...           desserts   \n",
       "\n",
       "  recipeCuisine                                               soup  \n",
       "0           nan  lightmeals&snacks nan quick 10-minutemeals eas...  \n",
       "1        indian  maincourse indian quick easychickpea 500-calor...  \n",
       "2       italian  lightmeals&snacks italian quick easychickpea 1...  \n",
       "3  easteuropean  maincourse easteuropean quick freshstartfor1-2...  \n",
       "4       british  desserts british makethemostofapples tradition...  "
      ],
      "text/html": "<div>\n<style scoped>\n    .dataframe tbody tr th:only-of-type {\n        vertical-align: middle;\n    }\n\n    .dataframe tbody tr th {\n        vertical-align: top;\n    }\n\n    .dataframe thead th {\n        text-align: right;\n    }\n</style>\n<table border=\"1\" class=\"dataframe\">\n  <thead>\n    <tr style=\"text-align: right;\">\n      <th></th>\n      <th>id</th>\n      <th>title</th>\n      <th>keywords</th>\n      <th>recipeCategory</th>\n      <th>recipeCuisine</th>\n      <th>soup</th>\n    </tr>\n  </thead>\n  <tbody>\n    <tr>\n      <th>0</th>\n      <td>0</td>\n      <td>Chickpeas with harissa and yoghurt</td>\n      <td>quick 10-minutemeals easychickpea affordable30...</td>\n      <td>lightmeals&amp;snacks</td>\n      <td>nan</td>\n      <td>lightmeals&amp;snacks nan quick 10-minutemeals eas...</td>\n    </tr>\n    <tr>\n      <th>1</th>\n      <td>1</td>\n      <td>Chickpea, spinach and egg curry</td>\n      <td>quick easychickpea 500-caloriedinners 6quickan...</td>\n      <td>maincourse</td>\n      <td>indian</td>\n      <td>maincourse indian quick easychickpea 500-calor...</td>\n    </tr>\n    <tr>\n      <th>2</th>\n      <td>2</td>\n      <td>Tomato, chickpea and pasta soup</td>\n      <td>quick easychickpea 15minutemeals 20minutemeals...</td>\n      <td>lightmeals&amp;snacks</td>\n      <td>italian</td>\n      <td>lightmeals&amp;snacks italian quick easychickpea 1...</td>\n    </tr>\n    <tr>\n      <th>3</th>\n      <td>3</td>\n      <td>Tom Kerridge's beef stroganoff</td>\n      <td>quick freshstartfor1-2 luxuryweeknightmeals mo...</td>\n      <td>maincourse</td>\n      <td>easteuropean</td>\n      <td>maincourse easteuropean quick freshstartfor1-2...</td>\n    </tr>\n    <tr>\n      <th>4</th>\n      <td>14</td>\n      <td>Apple crumble</td>\n      <td>makethemostofapples traditionalroastbeefdinner...</td>\n      <td>desserts</td>\n      <td>british</td>\n      <td>desserts british makethemostofapples tradition...</td>\n    </tr>\n  </tbody>\n</table>\n</div>"
     },
     "metadata": {},
     "execution_count": 17
    }
   ],
   "source": [
    "recipes['soup'] = recipes.drop(columns = ['title']).apply(create_soup, axis=1)\n",
    "\n",
    "recipes.head()"
   ]
  },
  {
   "cell_type": "code",
   "execution_count": 18,
   "metadata": {},
   "outputs": [],
   "source": [
    "from sklearn.feature_extraction.text import CountVectorizer\n",
    "\n",
    "count = CountVectorizer(stop_words='english')\n",
    "count_matrix = count.fit_transform(recipes['soup'])"
   ]
  },
  {
   "cell_type": "code",
   "execution_count": 19,
   "metadata": {},
   "outputs": [
    {
     "output_type": "execute_result",
     "data": {
      "text/plain": [
       "(503, 1519)"
      ]
     },
     "metadata": {},
     "execution_count": 19
    }
   ],
   "source": [
    "count_matrix.shape"
   ]
  },
  {
   "cell_type": "code",
   "execution_count": 20,
   "metadata": {},
   "outputs": [],
   "source": [
    "from sklearn.metrics.pairwise import cosine_similarity\n",
    "cosine_sim = cosine_similarity(count_matrix, count_matrix)"
   ]
  },
  {
   "cell_type": "code",
   "execution_count": 21,
   "metadata": {},
   "outputs": [
    {
     "output_type": "execute_result",
     "data": {
      "text/plain": [
       "(503, 503)"
      ]
     },
     "metadata": {},
     "execution_count": 21
    }
   ],
   "source": [
    "cosine_sim.shape"
   ]
  },
  {
   "cell_type": "code",
   "execution_count": 22,
   "metadata": {},
   "outputs": [],
   "source": [
    "def get_recommendations(title, cosine_sim=cosine_sim):\n",
    "        # Get the index of the movie that matches the title\n",
    "    idx = indices[title]\n",
    "\n",
    "    # Get the pairwsie similarity scores of all movies with that movie\n",
    "    sim_scores = list(enumerate(cosine_sim[idx]))\n",
    "\n",
    "    # Sort the movies based on the similarity scores\n",
    "    sim_scores = sorted(sim_scores, key=lambda x: x[1], reverse=True)\n",
    "\n",
    "    # Get the scores of the 10 most similar movies\n",
    "    sim_scores = sim_scores[1:11]\n",
    "\n",
    "    # Get the movie indices\n",
    "    recipes_indices = [i[0] for i in sim_scores]\n",
    "\n",
    "    # Return the top 10 most similar movies\n",
    "    return recipes['title'].iloc[recipes_indices]"
   ]
  },
  {
   "cell_type": "code",
   "execution_count": 23,
   "metadata": {},
   "outputs": [
    {
     "output_type": "execute_result",
     "data": {
      "text/plain": [
       "368                          Parsnip soup\n",
       "0      Chickpeas with harissa and yoghurt\n",
       "21                        Beetroot hummus\n",
       "415                Carrot and lentil soup\n",
       "262             Carrot and coriander soup\n",
       "433                     Corned beef hash \n",
       "394                 Lentil and bacon soup\n",
       "472              Carrot and ginger soup  \n",
       "129                  Leek and potato soup\n",
       "116           5-ingredient sausage pasta \n",
       "Name: title, dtype: object"
      ]
     },
     "metadata": {},
     "execution_count": 23
    }
   ],
   "source": [
    "get_recommendations('Tomato, chickpea and pasta soup')"
   ]
  },
  {
   "cell_type": "code",
   "execution_count": 24,
   "metadata": {},
   "outputs": [
    {
     "output_type": "execute_result",
     "data": {
      "text/plain": [
       "0      Chickpeas with harissa and yoghurt\n",
       "1         Chickpea, spinach and egg curry\n",
       "2         Tomato, chickpea and pasta soup\n",
       "3          Tom Kerridge's beef stroganoff\n",
       "4                           Apple crumble\n",
       "                      ...                \n",
       "498                    Thai chicken curry\n",
       "499                     Blueberry muffins\n",
       "500       Tuscan beans on sourdough toast\n",
       "501                     Sourdough starter\n",
       "502                         Custard slice\n",
       "Name: title, Length: 503, dtype: object"
      ]
     },
     "metadata": {},
     "execution_count": 24
    }
   ],
   "source": [
    "recipes['title']"
   ]
  },
  {
   "cell_type": "code",
   "execution_count": 25,
   "metadata": {},
   "outputs": [],
   "source": [
    "classified_recipes = {\n",
    "    0:[1, 3, 6, 34, 35, 235, 354],\n",
    "    1:[0, 2, 4, 65, 346, 53, 100]\n",
    "}\n",
    "\n",
    "input_recipes = [1, 3, 0, 2, 4]"
   ]
  },
  {
   "cell_type": "code",
   "execution_count": 26,
   "metadata": {},
   "outputs": [
    {
     "output_type": "execute_result",
     "data": {
      "text/plain": [
       "(0, 'Chickpeas with harissa and yoghurt')"
      ]
     },
     "metadata": {},
     "execution_count": 26
    }
   ],
   "source": [
    "def get_user_recomendation(classified_recipes, input_recipes, cosine_sim = cosine_sim):\n",
    "\n",
    "    pos_indexes = classified_recipes.get(1) #indexes of the liked recipes\n",
    "    neg_indexes = classified_recipes.get(0) #indexes of disliked recipes\n",
    "    input_indexes = input_recipes\n",
    "\n",
    "    cos_matrix = np.array(cosine_sim)\n",
    "    cos_matrix[:,neg_indexes] = - cos_matrix[:,neg_indexes] #flipping sign of disliked recipes\n",
    "    reduced_matrix = cos_matrix[:,pos_indexes + pos_indexes][input_indexes,:]\n",
    "\n",
    "    sum_vec = reduced_matrix.sum(axis=1)\n",
    "\n",
    "    index = input_recipes[sum_vec.argmax()]\n",
    "    recipe_name = recipes.at[index,'title']\n",
    "\n",
    "    return index, recipe_name\n",
    "\n",
    "get_user_recomendation(classified_recipes, input_recipes)"
   ]
  }
 ]
}