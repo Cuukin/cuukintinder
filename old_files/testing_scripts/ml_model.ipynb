{
 "metadata": {
  "language_info": {
   "codemirror_mode": {
    "name": "ipython",
    "version": 3
   },
   "file_extension": ".py",
   "mimetype": "text/x-python",
   "name": "python",
   "nbconvert_exporter": "python",
   "pygments_lexer": "ipython3",
   "version": "3.8.8"
  },
  "orig_nbformat": 4,
  "kernelspec": {
   "name": "python3",
   "display_name": "Python 3.8.8 64-bit ('base': conda)"
  },
  "interpreter": {
   "hash": "9c55446680d5435dcfad149676b5f9bdd40bd2288f3a0546b701a7eed2675e86"
  }
 },
 "nbformat": 4,
 "nbformat_minor": 2,
 "cells": [
  {
   "cell_type": "code",
   "execution_count": 1,
   "metadata": {},
   "outputs": [],
   "source": [
    "import pandas as pd"
   ]
  },
  {
   "cell_type": "code",
   "execution_count": 2,
   "metadata": {},
   "outputs": [
    {
     "output_type": "execute_result",
     "data": {
      "text/plain": [
       "   id                            title  \\\n",
       "0   1  Chickpea, spinach and egg curry   \n",
       "1   2  Tomato, chickpea and pasta soup   \n",
       "\n",
       "                                         description  classification  \\\n",
       "0  This vegetarian low-calorie chickpea curry mak...               1   \n",
       "1  This cheap, quick and easy soup is based on an...               1   \n",
       "\n",
       "  recipeType  ratingCount  ratingValue  prepTime  cookTime  \\\n",
       "0     Recipe           51          4.3        30        30   \n",
       "1     Recipe           17          4.5        30        30   \n",
       "\n",
       "         recipeCategory recipeCuisine  \n",
       "0           Main course        Indian  \n",
       "1  Light meals & snacks       Italian  "
      ],
      "text/html": "<div>\n<style scoped>\n    .dataframe tbody tr th:only-of-type {\n        vertical-align: middle;\n    }\n\n    .dataframe tbody tr th {\n        vertical-align: top;\n    }\n\n    .dataframe thead th {\n        text-align: right;\n    }\n</style>\n<table border=\"1\" class=\"dataframe\">\n  <thead>\n    <tr style=\"text-align: right;\">\n      <th></th>\n      <th>id</th>\n      <th>title</th>\n      <th>description</th>\n      <th>classification</th>\n      <th>recipeType</th>\n      <th>ratingCount</th>\n      <th>ratingValue</th>\n      <th>prepTime</th>\n      <th>cookTime</th>\n      <th>recipeCategory</th>\n      <th>recipeCuisine</th>\n    </tr>\n  </thead>\n  <tbody>\n    <tr>\n      <th>0</th>\n      <td>1</td>\n      <td>Chickpea, spinach and egg curry</td>\n      <td>This vegetarian low-calorie chickpea curry mak...</td>\n      <td>1</td>\n      <td>Recipe</td>\n      <td>51</td>\n      <td>4.3</td>\n      <td>30</td>\n      <td>30</td>\n      <td>Main course</td>\n      <td>Indian</td>\n    </tr>\n    <tr>\n      <th>1</th>\n      <td>2</td>\n      <td>Tomato, chickpea and pasta soup</td>\n      <td>This cheap, quick and easy soup is based on an...</td>\n      <td>1</td>\n      <td>Recipe</td>\n      <td>17</td>\n      <td>4.5</td>\n      <td>30</td>\n      <td>30</td>\n      <td>Light meals &amp; snacks</td>\n      <td>Italian</td>\n    </tr>\n  </tbody>\n</table>\n</div>"
     },
     "metadata": {},
     "execution_count": 2
    }
   ],
   "source": [
    "recipes = pd.read_csv('classified_recipes.csv')\n",
    "recipes.head(2)"
   ]
  },
  {
   "cell_type": "code",
   "execution_count": 3,
   "metadata": {},
   "outputs": [
    {
     "output_type": "execute_result",
     "data": {
      "text/plain": [
       "   id                            title  \\\n",
       "0   1  Chickpea, spinach and egg curry   \n",
       "1   2  Tomato, chickpea and pasta soup   \n",
       "\n",
       "                                         description  classification  \\\n",
       "0  This vegetarian low-calorie chickpea curry mak...               1   \n",
       "1  This cheap, quick and easy soup is based on an...               1   \n",
       "\n",
       "  recipeType  ratingCount  ratingValue  prepTime  cookTime  \\\n",
       "0     Recipe           51          4.3        30        30   \n",
       "1     Recipe           17          4.5        30        30   \n",
       "\n",
       "         recipeCategory recipeCuisine  recipeType_n  recipeCategory_n  \\\n",
       "0           Main course        Indian             0                 4   \n",
       "1  Light meals & snacks       Italian             0                 3   \n",
       "\n",
       "   recipeCuisine_n  \n",
       "0                5  \n",
       "1                6  "
      ],
      "text/html": "<div>\n<style scoped>\n    .dataframe tbody tr th:only-of-type {\n        vertical-align: middle;\n    }\n\n    .dataframe tbody tr th {\n        vertical-align: top;\n    }\n\n    .dataframe thead th {\n        text-align: right;\n    }\n</style>\n<table border=\"1\" class=\"dataframe\">\n  <thead>\n    <tr style=\"text-align: right;\">\n      <th></th>\n      <th>id</th>\n      <th>title</th>\n      <th>description</th>\n      <th>classification</th>\n      <th>recipeType</th>\n      <th>ratingCount</th>\n      <th>ratingValue</th>\n      <th>prepTime</th>\n      <th>cookTime</th>\n      <th>recipeCategory</th>\n      <th>recipeCuisine</th>\n      <th>recipeType_n</th>\n      <th>recipeCategory_n</th>\n      <th>recipeCuisine_n</th>\n    </tr>\n  </thead>\n  <tbody>\n    <tr>\n      <th>0</th>\n      <td>1</td>\n      <td>Chickpea, spinach and egg curry</td>\n      <td>This vegetarian low-calorie chickpea curry mak...</td>\n      <td>1</td>\n      <td>Recipe</td>\n      <td>51</td>\n      <td>4.3</td>\n      <td>30</td>\n      <td>30</td>\n      <td>Main course</td>\n      <td>Indian</td>\n      <td>0</td>\n      <td>4</td>\n      <td>5</td>\n    </tr>\n    <tr>\n      <th>1</th>\n      <td>2</td>\n      <td>Tomato, chickpea and pasta soup</td>\n      <td>This cheap, quick and easy soup is based on an...</td>\n      <td>1</td>\n      <td>Recipe</td>\n      <td>17</td>\n      <td>4.5</td>\n      <td>30</td>\n      <td>30</td>\n      <td>Light meals &amp; snacks</td>\n      <td>Italian</td>\n      <td>0</td>\n      <td>3</td>\n      <td>6</td>\n    </tr>\n  </tbody>\n</table>\n</div>"
     },
     "metadata": {},
     "execution_count": 3
    }
   ],
   "source": [
    "from sklearn.preprocessing import LabelEncoder\n",
    "\n",
    "labels = ['recipeType', 'recipeCategory', 'recipeCuisine']\n",
    "encoders = {}\n",
    "for label in labels:\n",
    "    encoders[label] = LabelEncoder()\n",
    "    recipes[label + '_n'] = encoders[label].fit_transform(recipes[label])\n",
    "\n",
    "recipes.head(2)"
   ]
  },
  {
   "cell_type": "code",
   "execution_count": 4,
   "metadata": {},
   "outputs": [],
   "source": [
    "labels += ['title', 'description']\n",
    "recipes.drop(columns = labels, inplace=True)"
   ]
  },
  {
   "source": [
    "well need to incorporate ingredients on this probably as a vector on each recipe method"
   ],
   "cell_type": "markdown",
   "metadata": {}
  },
  {
   "cell_type": "code",
   "execution_count": 5,
   "metadata": {},
   "outputs": [
    {
     "output_type": "execute_result",
     "data": {
      "text/plain": [
       "   id  classification  ratingCount  ratingValue  prepTime  cookTime  \\\n",
       "0   1               1           51          4.3        30        30   \n",
       "1   2               1           17          4.5        30        30   \n",
       "2   3               1           34          4.7        30        30   \n",
       "3  14               1           92          4.4        30         0   \n",
       "4  15               0           21          4.6        30         0   \n",
       "\n",
       "   recipeType_n  recipeCategory_n  recipeCuisine_n  \n",
       "0             0                 4                5  \n",
       "1             0                 3                6  \n",
       "2             0                 4                3  \n",
       "3             0                 2                1  \n",
       "4             0                 4                6  "
      ],
      "text/html": "<div>\n<style scoped>\n    .dataframe tbody tr th:only-of-type {\n        vertical-align: middle;\n    }\n\n    .dataframe tbody tr th {\n        vertical-align: top;\n    }\n\n    .dataframe thead th {\n        text-align: right;\n    }\n</style>\n<table border=\"1\" class=\"dataframe\">\n  <thead>\n    <tr style=\"text-align: right;\">\n      <th></th>\n      <th>id</th>\n      <th>classification</th>\n      <th>ratingCount</th>\n      <th>ratingValue</th>\n      <th>prepTime</th>\n      <th>cookTime</th>\n      <th>recipeType_n</th>\n      <th>recipeCategory_n</th>\n      <th>recipeCuisine_n</th>\n    </tr>\n  </thead>\n  <tbody>\n    <tr>\n      <th>0</th>\n      <td>1</td>\n      <td>1</td>\n      <td>51</td>\n      <td>4.3</td>\n      <td>30</td>\n      <td>30</td>\n      <td>0</td>\n      <td>4</td>\n      <td>5</td>\n    </tr>\n    <tr>\n      <th>1</th>\n      <td>2</td>\n      <td>1</td>\n      <td>17</td>\n      <td>4.5</td>\n      <td>30</td>\n      <td>30</td>\n      <td>0</td>\n      <td>3</td>\n      <td>6</td>\n    </tr>\n    <tr>\n      <th>2</th>\n      <td>3</td>\n      <td>1</td>\n      <td>34</td>\n      <td>4.7</td>\n      <td>30</td>\n      <td>30</td>\n      <td>0</td>\n      <td>4</td>\n      <td>3</td>\n    </tr>\n    <tr>\n      <th>3</th>\n      <td>14</td>\n      <td>1</td>\n      <td>92</td>\n      <td>4.4</td>\n      <td>30</td>\n      <td>0</td>\n      <td>0</td>\n      <td>2</td>\n      <td>1</td>\n    </tr>\n    <tr>\n      <th>4</th>\n      <td>15</td>\n      <td>0</td>\n      <td>21</td>\n      <td>4.6</td>\n      <td>30</td>\n      <td>0</td>\n      <td>0</td>\n      <td>4</td>\n      <td>6</td>\n    </tr>\n  </tbody>\n</table>\n</div>"
     },
     "metadata": {},
     "execution_count": 5
    }
   ],
   "source": [
    "recipes.head()"
   ]
  },
  {
   "cell_type": "code",
   "execution_count": 6,
   "metadata": {},
   "outputs": [
    {
     "output_type": "execute_result",
     "data": {
      "text/plain": [
       "    id               name                       created_at  \\\n",
       "0  191      Smoked salmon 2021-04-26 10:52:44.769000+00:00   \n",
       "1  190    Smoked mackerel 2021-04-26 10:52:10.914000+00:00   \n",
       "2  189      Peanut butter 2021-04-26 10:48:18.280000+00:00   \n",
       "3  188  Parmigiano cheese 2021-04-26 10:47:19.590000+00:00   \n",
       "4  186                Jam 2021-04-26 10:44:29.396000+00:00   \n",
       "\n",
       "                        updated_at  badge_id  score_1  score_2  score_3  \\\n",
       "0 2021-05-21 21:23:09.963000+00:00        13        5        1        0   \n",
       "1 2021-05-21 21:23:09.957000+00:00        13        5        1        0   \n",
       "2 2021-05-21 21:23:09.951000+00:00        17        5        1        0   \n",
       "3 2021-05-21 21:23:09.945000+00:00        16        5        1        0   \n",
       "4 2021-05-21 21:23:09.939000+00:00        22        5        1        0   \n",
       "\n",
       "   cupboard  \n",
       "0     False  \n",
       "1     False  \n",
       "2     False  \n",
       "3     False  \n",
       "4     False  "
      ],
      "text/html": "<div>\n<style scoped>\n    .dataframe tbody tr th:only-of-type {\n        vertical-align: middle;\n    }\n\n    .dataframe tbody tr th {\n        vertical-align: top;\n    }\n\n    .dataframe thead th {\n        text-align: right;\n    }\n</style>\n<table border=\"1\" class=\"dataframe\">\n  <thead>\n    <tr style=\"text-align: right;\">\n      <th></th>\n      <th>id</th>\n      <th>name</th>\n      <th>created_at</th>\n      <th>updated_at</th>\n      <th>badge_id</th>\n      <th>score_1</th>\n      <th>score_2</th>\n      <th>score_3</th>\n      <th>cupboard</th>\n    </tr>\n  </thead>\n  <tbody>\n    <tr>\n      <th>0</th>\n      <td>191</td>\n      <td>Smoked salmon</td>\n      <td>2021-04-26 10:52:44.769000+00:00</td>\n      <td>2021-05-21 21:23:09.963000+00:00</td>\n      <td>13</td>\n      <td>5</td>\n      <td>1</td>\n      <td>0</td>\n      <td>False</td>\n    </tr>\n    <tr>\n      <th>1</th>\n      <td>190</td>\n      <td>Smoked mackerel</td>\n      <td>2021-04-26 10:52:10.914000+00:00</td>\n      <td>2021-05-21 21:23:09.957000+00:00</td>\n      <td>13</td>\n      <td>5</td>\n      <td>1</td>\n      <td>0</td>\n      <td>False</td>\n    </tr>\n    <tr>\n      <th>2</th>\n      <td>189</td>\n      <td>Peanut butter</td>\n      <td>2021-04-26 10:48:18.280000+00:00</td>\n      <td>2021-05-21 21:23:09.951000+00:00</td>\n      <td>17</td>\n      <td>5</td>\n      <td>1</td>\n      <td>0</td>\n      <td>False</td>\n    </tr>\n    <tr>\n      <th>3</th>\n      <td>188</td>\n      <td>Parmigiano cheese</td>\n      <td>2021-04-26 10:47:19.590000+00:00</td>\n      <td>2021-05-21 21:23:09.945000+00:00</td>\n      <td>16</td>\n      <td>5</td>\n      <td>1</td>\n      <td>0</td>\n      <td>False</td>\n    </tr>\n    <tr>\n      <th>4</th>\n      <td>186</td>\n      <td>Jam</td>\n      <td>2021-04-26 10:44:29.396000+00:00</td>\n      <td>2021-05-21 21:23:09.939000+00:00</td>\n      <td>22</td>\n      <td>5</td>\n      <td>1</td>\n      <td>0</td>\n      <td>False</td>\n    </tr>\n  </tbody>\n</table>\n</div>"
     },
     "metadata": {},
     "execution_count": 6
    }
   ],
   "source": [
    "ingredients = pd.read_json('ingredients.json')\n",
    "ingredients.head()"
   ]
  },
  {
   "cell_type": "code",
   "execution_count": 7,
   "metadata": {},
   "outputs": [],
   "source": [
    "ingredients_names = set(ingredients['name'])\n",
    "ingredients_names = set([name.lower() for name in ingredients_names])\n"
   ]
  },
  {
   "cell_type": "code",
   "execution_count": 8,
   "metadata": {},
   "outputs": [
    {
     "output_type": "execute_result",
     "data": {
      "text/plain": [
       "   id  classification  ratingCount  ratingValue  prepTime  cookTime  \\\n",
       "0   1               1           51          4.3        30        30   \n",
       "1   2               1           17          4.5        30        30   \n",
       "\n",
       "   recipeType_n  recipeCategory_n  recipeCuisine_n  chocolate  ...  \\\n",
       "0             0                 4                5          0  ...   \n",
       "1             0                 3                6          0  ...   \n",
       "\n",
       "   dijon mustard  green onion  tartar sauce  prosciutto  onion  salad  \\\n",
       "0              0            0             0           0      0      0   \n",
       "1              0            0             0           0      0      0   \n",
       "\n",
       "   parmigiano cheese  parsley  coconut cream  english muffin  \n",
       "0                  0        0              0               0  \n",
       "1                  0        0              0               0  \n",
       "\n",
       "[2 rows x 199 columns]"
      ],
      "text/html": "<div>\n<style scoped>\n    .dataframe tbody tr th:only-of-type {\n        vertical-align: middle;\n    }\n\n    .dataframe tbody tr th {\n        vertical-align: top;\n    }\n\n    .dataframe thead th {\n        text-align: right;\n    }\n</style>\n<table border=\"1\" class=\"dataframe\">\n  <thead>\n    <tr style=\"text-align: right;\">\n      <th></th>\n      <th>id</th>\n      <th>classification</th>\n      <th>ratingCount</th>\n      <th>ratingValue</th>\n      <th>prepTime</th>\n      <th>cookTime</th>\n      <th>recipeType_n</th>\n      <th>recipeCategory_n</th>\n      <th>recipeCuisine_n</th>\n      <th>chocolate</th>\n      <th>...</th>\n      <th>dijon mustard</th>\n      <th>green onion</th>\n      <th>tartar sauce</th>\n      <th>prosciutto</th>\n      <th>onion</th>\n      <th>salad</th>\n      <th>parmigiano cheese</th>\n      <th>parsley</th>\n      <th>coconut cream</th>\n      <th>english muffin</th>\n    </tr>\n  </thead>\n  <tbody>\n    <tr>\n      <th>0</th>\n      <td>1</td>\n      <td>1</td>\n      <td>51</td>\n      <td>4.3</td>\n      <td>30</td>\n      <td>30</td>\n      <td>0</td>\n      <td>4</td>\n      <td>5</td>\n      <td>0</td>\n      <td>...</td>\n      <td>0</td>\n      <td>0</td>\n      <td>0</td>\n      <td>0</td>\n      <td>0</td>\n      <td>0</td>\n      <td>0</td>\n      <td>0</td>\n      <td>0</td>\n      <td>0</td>\n    </tr>\n    <tr>\n      <th>1</th>\n      <td>2</td>\n      <td>1</td>\n      <td>17</td>\n      <td>4.5</td>\n      <td>30</td>\n      <td>30</td>\n      <td>0</td>\n      <td>3</td>\n      <td>6</td>\n      <td>0</td>\n      <td>...</td>\n      <td>0</td>\n      <td>0</td>\n      <td>0</td>\n      <td>0</td>\n      <td>0</td>\n      <td>0</td>\n      <td>0</td>\n      <td>0</td>\n      <td>0</td>\n      <td>0</td>\n    </tr>\n  </tbody>\n</table>\n<p>2 rows × 199 columns</p>\n</div>"
     },
     "metadata": {},
     "execution_count": 8
    }
   ],
   "source": [
    "for ingredient in ingredients_names:\n",
    "    recipes[ingredient] = 0\n",
    "\n",
    "recipes.head(2)"
   ]
  },
  {
   "cell_type": "code",
   "execution_count": 9,
   "metadata": {},
   "outputs": [
    {
     "output_type": "execute_result",
     "data": {
      "text/plain": [
       "   id  recipe_id ingredient_name Quantity        Comment Wrong_Name  Column1  \\\n",
       "0   0          0       olive oil   2 tbsp            NaN      FALSO      NaN   \n",
       "1   1          0       red onion        �  thinly sliced      FALSO      NaN   \n",
       "\n",
       "   _1  _2  _3  _4  _5  \n",
       "0 NaN NaN NaN NaN NaN  \n",
       "1 NaN NaN NaN NaN NaN  "
      ],
      "text/html": "<div>\n<style scoped>\n    .dataframe tbody tr th:only-of-type {\n        vertical-align: middle;\n    }\n\n    .dataframe tbody tr th {\n        vertical-align: top;\n    }\n\n    .dataframe thead th {\n        text-align: right;\n    }\n</style>\n<table border=\"1\" class=\"dataframe\">\n  <thead>\n    <tr style=\"text-align: right;\">\n      <th></th>\n      <th>id</th>\n      <th>recipe_id</th>\n      <th>ingredient_name</th>\n      <th>Quantity</th>\n      <th>Comment</th>\n      <th>Wrong_Name</th>\n      <th>Column1</th>\n      <th>_1</th>\n      <th>_2</th>\n      <th>_3</th>\n      <th>_4</th>\n      <th>_5</th>\n    </tr>\n  </thead>\n  <tbody>\n    <tr>\n      <th>0</th>\n      <td>0</td>\n      <td>0</td>\n      <td>olive oil</td>\n      <td>2 tbsp</td>\n      <td>NaN</td>\n      <td>FALSO</td>\n      <td>NaN</td>\n      <td>NaN</td>\n      <td>NaN</td>\n      <td>NaN</td>\n      <td>NaN</td>\n      <td>NaN</td>\n    </tr>\n    <tr>\n      <th>1</th>\n      <td>1</td>\n      <td>0</td>\n      <td>red onion</td>\n      <td>�</td>\n      <td>thinly sliced</td>\n      <td>FALSO</td>\n      <td>NaN</td>\n      <td>NaN</td>\n      <td>NaN</td>\n      <td>NaN</td>\n      <td>NaN</td>\n      <td>NaN</td>\n    </tr>\n  </tbody>\n</table>\n</div>"
     },
     "metadata": {},
     "execution_count": 9
    }
   ],
   "source": [
    "recipe_ingredients = pd.read_csv(os.path.join('recipes', 'recipe_ingredients.csv'))\n",
    "recipe_ingredients.head(2)"
   ]
  },
  {
   "cell_type": "code",
   "execution_count": 10,
   "metadata": {},
   "outputs": [
    {
     "output_type": "execute_result",
     "data": {
      "text/plain": [
       "   recipe_id ingredient_name\n",
       "0          0       olive oil\n",
       "1          0       red onion"
      ],
      "text/html": "<div>\n<style scoped>\n    .dataframe tbody tr th:only-of-type {\n        vertical-align: middle;\n    }\n\n    .dataframe tbody tr th {\n        vertical-align: top;\n    }\n\n    .dataframe thead th {\n        text-align: right;\n    }\n</style>\n<table border=\"1\" class=\"dataframe\">\n  <thead>\n    <tr style=\"text-align: right;\">\n      <th></th>\n      <th>recipe_id</th>\n      <th>ingredient_name</th>\n    </tr>\n  </thead>\n  <tbody>\n    <tr>\n      <th>0</th>\n      <td>0</td>\n      <td>olive oil</td>\n    </tr>\n    <tr>\n      <th>1</th>\n      <td>0</td>\n      <td>red onion</td>\n    </tr>\n  </tbody>\n</table>\n</div>"
     },
     "metadata": {},
     "execution_count": 10
    }
   ],
   "source": [
    "recipe_ingredients = recipe_ingredients[['recipe_id', 'ingredient_name']]\n",
    "recipe_ingredients.head(2)"
   ]
  },
  {
   "cell_type": "code",
   "execution_count": 11,
   "metadata": {
    "tags": []
   },
   "outputs": [],
   "source": [
    "for recipe_id, ingredient in list(recipe_ingredients.to_records(index=False)):\n",
    "    if ingredient in ingredients_names:\n",
    "        recipes.loc[recipes['id']==recipe_id, ingredient] = 1"
   ]
  },
  {
   "cell_type": "code",
   "execution_count": 12,
   "metadata": {},
   "outputs": [
    {
     "output_type": "execute_result",
     "data": {
      "text/plain": [
       "   id  classification  ratingCount  ratingValue  prepTime  cookTime  \\\n",
       "0   1               1           51          4.3        30        30   \n",
       "1   2               1           17          4.5        30        30   \n",
       "2   3               1           34          4.7        30        30   \n",
       "3  14               1           92          4.4        30         0   \n",
       "4  15               0           21          4.6        30         0   \n",
       "\n",
       "   recipeType_n  recipeCategory_n  recipeCuisine_n  chocolate  ...  \\\n",
       "0             0                 4                5          0  ...   \n",
       "1             0                 3                6          0  ...   \n",
       "2             0                 4                3          0  ...   \n",
       "3             0                 2                1          0  ...   \n",
       "4             0                 4                6          0  ...   \n",
       "\n",
       "   dijon mustard  green onion  tartar sauce  prosciutto  onion  salad  \\\n",
       "0              0            0             0           0      0      0   \n",
       "1              0            0             0           0      0      0   \n",
       "2              0            0             0           0      1      0   \n",
       "3              0            0             0           0      0      0   \n",
       "4              0            0             0           0      0      0   \n",
       "\n",
       "   parmigiano cheese  parsley  coconut cream  english muffin  \n",
       "0                  0        0              0               0  \n",
       "1                  0        0              0               0  \n",
       "2                  0        1              0               0  \n",
       "3                  0        0              0               0  \n",
       "4                  0        0              0               0  \n",
       "\n",
       "[5 rows x 199 columns]"
      ],
      "text/html": "<div>\n<style scoped>\n    .dataframe tbody tr th:only-of-type {\n        vertical-align: middle;\n    }\n\n    .dataframe tbody tr th {\n        vertical-align: top;\n    }\n\n    .dataframe thead th {\n        text-align: right;\n    }\n</style>\n<table border=\"1\" class=\"dataframe\">\n  <thead>\n    <tr style=\"text-align: right;\">\n      <th></th>\n      <th>id</th>\n      <th>classification</th>\n      <th>ratingCount</th>\n      <th>ratingValue</th>\n      <th>prepTime</th>\n      <th>cookTime</th>\n      <th>recipeType_n</th>\n      <th>recipeCategory_n</th>\n      <th>recipeCuisine_n</th>\n      <th>chocolate</th>\n      <th>...</th>\n      <th>dijon mustard</th>\n      <th>green onion</th>\n      <th>tartar sauce</th>\n      <th>prosciutto</th>\n      <th>onion</th>\n      <th>salad</th>\n      <th>parmigiano cheese</th>\n      <th>parsley</th>\n      <th>coconut cream</th>\n      <th>english muffin</th>\n    </tr>\n  </thead>\n  <tbody>\n    <tr>\n      <th>0</th>\n      <td>1</td>\n      <td>1</td>\n      <td>51</td>\n      <td>4.3</td>\n      <td>30</td>\n      <td>30</td>\n      <td>0</td>\n      <td>4</td>\n      <td>5</td>\n      <td>0</td>\n      <td>...</td>\n      <td>0</td>\n      <td>0</td>\n      <td>0</td>\n      <td>0</td>\n      <td>0</td>\n      <td>0</td>\n      <td>0</td>\n      <td>0</td>\n      <td>0</td>\n      <td>0</td>\n    </tr>\n    <tr>\n      <th>1</th>\n      <td>2</td>\n      <td>1</td>\n      <td>17</td>\n      <td>4.5</td>\n      <td>30</td>\n      <td>30</td>\n      <td>0</td>\n      <td>3</td>\n      <td>6</td>\n      <td>0</td>\n      <td>...</td>\n      <td>0</td>\n      <td>0</td>\n      <td>0</td>\n      <td>0</td>\n      <td>0</td>\n      <td>0</td>\n      <td>0</td>\n      <td>0</td>\n      <td>0</td>\n      <td>0</td>\n    </tr>\n    <tr>\n      <th>2</th>\n      <td>3</td>\n      <td>1</td>\n      <td>34</td>\n      <td>4.7</td>\n      <td>30</td>\n      <td>30</td>\n      <td>0</td>\n      <td>4</td>\n      <td>3</td>\n      <td>0</td>\n      <td>...</td>\n      <td>0</td>\n      <td>0</td>\n      <td>0</td>\n      <td>0</td>\n      <td>1</td>\n      <td>0</td>\n      <td>0</td>\n      <td>1</td>\n      <td>0</td>\n      <td>0</td>\n    </tr>\n    <tr>\n      <th>3</th>\n      <td>14</td>\n      <td>1</td>\n      <td>92</td>\n      <td>4.4</td>\n      <td>30</td>\n      <td>0</td>\n      <td>0</td>\n      <td>2</td>\n      <td>1</td>\n      <td>0</td>\n      <td>...</td>\n      <td>0</td>\n      <td>0</td>\n      <td>0</td>\n      <td>0</td>\n      <td>0</td>\n      <td>0</td>\n      <td>0</td>\n      <td>0</td>\n      <td>0</td>\n      <td>0</td>\n    </tr>\n    <tr>\n      <th>4</th>\n      <td>15</td>\n      <td>0</td>\n      <td>21</td>\n      <td>4.6</td>\n      <td>30</td>\n      <td>0</td>\n      <td>0</td>\n      <td>4</td>\n      <td>6</td>\n      <td>0</td>\n      <td>...</td>\n      <td>0</td>\n      <td>0</td>\n      <td>0</td>\n      <td>0</td>\n      <td>0</td>\n      <td>0</td>\n      <td>0</td>\n      <td>0</td>\n      <td>0</td>\n      <td>0</td>\n    </tr>\n  </tbody>\n</table>\n<p>5 rows × 199 columns</p>\n</div>"
     },
     "metadata": {},
     "execution_count": 12
    }
   ],
   "source": [
    "recipes.head()"
   ]
  },
  {
   "cell_type": "code",
   "execution_count": 13,
   "metadata": {},
   "outputs": [
    {
     "output_type": "execute_result",
     "data": {
      "text/plain": [
       "0    0\n",
       "Name: smoked salmon, dtype: int64"
      ]
     },
     "metadata": {},
     "execution_count": 13
    }
   ],
   "source": [
    "recipes[recipes['id']==1]['smoked salmon']"
   ]
  },
  {
   "source": [
    "preparing data for machine learning"
   ],
   "cell_type": "markdown",
   "metadata": {}
  },
  {
   "cell_type": "code",
   "execution_count": 14,
   "metadata": {},
   "outputs": [],
   "source": [
    "X = recipes.drop(columns = ['classification'])\n",
    "y = recipes['classification']"
   ]
  },
  {
   "source": [
    "implementing random forest classification model"
   ],
   "cell_type": "markdown",
   "metadata": {}
  },
  {
   "cell_type": "code",
   "execution_count": 15,
   "metadata": {},
   "outputs": [],
   "source": [
    "from sklearn.model_selection import train_test_split\n",
    "X_train, X_test, y_train, y_test = train_test_split(X,y,test_size=0.2)"
   ]
  },
  {
   "cell_type": "code",
   "execution_count": 16,
   "metadata": {},
   "outputs": [
    {
     "output_type": "execute_result",
     "data": {
      "text/plain": [
       "RandomForestClassifier(n_estimators=20)"
      ]
     },
     "metadata": {},
     "execution_count": 16
    }
   ],
   "source": [
    "from sklearn.ensemble import RandomForestClassifier\n",
    "model = RandomForestClassifier(n_estimators=20)\n",
    "model.fit(X_train, y_train)"
   ]
  },
  {
   "cell_type": "code",
   "execution_count": 17,
   "metadata": {},
   "outputs": [
    {
     "output_type": "execute_result",
     "data": {
      "text/plain": [
       "0.8"
      ]
     },
     "metadata": {},
     "execution_count": 17
    }
   ],
   "source": [
    "model.score(X_test, y_test)"
   ]
  },
  {
   "source": [
    "trying out several models"
   ],
   "cell_type": "markdown",
   "metadata": {}
  },
  {
   "cell_type": "code",
   "execution_count": 18,
   "metadata": {},
   "outputs": [],
   "source": [
    "from sklearn.model_selection import GridSearchCV\n",
    "\n",
    "# Importing models\n",
    "from sklearn import svm\n",
    "from sklearn.ensemble import RandomForestClassifier\n",
    "from sklearn.linear_model import LogisticRegression\n",
    "\n",
    "from sklearn.naive_bayes import GaussianNB\n",
    "from sklearn.naive_bayes import MultinomialNB\n",
    "from sklearn.tree import DecisionTreeClassifier\n",
    "\n",
    "# Defining parameters to be searched\n",
    "model_params = {\n",
    "    'svm': {\n",
    "        'model': svm.SVC(gamma='auto'),\n",
    "        'params' : {\n",
    "            'C': [1,10,20,40,50],\n",
    "            'kernel': ['rbf','linear']\n",
    "        }  \n",
    "    },\n",
    "    'random_forest': {\n",
    "        'model': RandomForestClassifier(),\n",
    "        'params' : {\n",
    "            'n_estimators': [1,5,10,20]\n",
    "        }\n",
    "    },\n",
    "    'logistic_regression' : {\n",
    "        'model': LogisticRegression(solver='liblinear',multi_class='auto'),\n",
    "        'params': {\n",
    "            'C': [1,5,10,40,50]\n",
    "        }\n",
    "    },\n",
    "    'gaussian_nb' : {\n",
    "        'model': GaussianNB(),\n",
    "        'params': {}\n",
    "    },\n",
    "    'multinomial_nb' : {\n",
    "        'model': MultinomialNB(),\n",
    "        'params': {}\n",
    "    },\n",
    "    'decision_tree' : {\n",
    "        'model': DecisionTreeClassifier(),\n",
    "        'params': {\n",
    "            'criterion': ['gini','entropy'],\n",
    "        }\n",
    "    }\n",
    "}\n",
    "\n",
    "# i still need to ajust all the parameters and use some real data to do so"
   ]
  },
  {
   "cell_type": "code",
   "execution_count": 19,
   "metadata": {},
   "outputs": [
    {
     "output_type": "execute_result",
     "data": {
      "text/plain": [
       "                 model  best_score                    best_params\n",
       "0                  svm    0.604444  {'C': 10, 'kernel': 'linear'}\n",
       "1        random_forest    0.666667            {'n_estimators': 5}\n",
       "2  logistic_regression    0.604444                      {'C': 40}\n",
       "3          gaussian_nb    0.457778                             {}\n",
       "4       multinomial_nb    0.557778                             {}\n",
       "5        decision_tree    0.564444       {'criterion': 'entropy'}"
      ],
      "text/html": "<div>\n<style scoped>\n    .dataframe tbody tr th:only-of-type {\n        vertical-align: middle;\n    }\n\n    .dataframe tbody tr th {\n        vertical-align: top;\n    }\n\n    .dataframe thead th {\n        text-align: right;\n    }\n</style>\n<table border=\"1\" class=\"dataframe\">\n  <thead>\n    <tr style=\"text-align: right;\">\n      <th></th>\n      <th>model</th>\n      <th>best_score</th>\n      <th>best_params</th>\n    </tr>\n  </thead>\n  <tbody>\n    <tr>\n      <th>0</th>\n      <td>svm</td>\n      <td>0.604444</td>\n      <td>{'C': 10, 'kernel': 'linear'}</td>\n    </tr>\n    <tr>\n      <th>1</th>\n      <td>random_forest</td>\n      <td>0.666667</td>\n      <td>{'n_estimators': 5}</td>\n    </tr>\n    <tr>\n      <th>2</th>\n      <td>logistic_regression</td>\n      <td>0.604444</td>\n      <td>{'C': 40}</td>\n    </tr>\n    <tr>\n      <th>3</th>\n      <td>gaussian_nb</td>\n      <td>0.457778</td>\n      <td>{}</td>\n    </tr>\n    <tr>\n      <th>4</th>\n      <td>multinomial_nb</td>\n      <td>0.557778</td>\n      <td>{}</td>\n    </tr>\n    <tr>\n      <th>5</th>\n      <td>decision_tree</td>\n      <td>0.564444</td>\n      <td>{'criterion': 'entropy'}</td>\n    </tr>\n  </tbody>\n</table>\n</div>"
     },
     "metadata": {},
     "execution_count": 19
    }
   ],
   "source": [
    "scores = []\n",
    "\n",
    "for model_name, mp in model_params.items():\n",
    "    clf =  GridSearchCV(mp['model'], mp['params'], cv=5, return_train_score=False)\n",
    "    clf.fit(X, y)\n",
    "    scores.append({\n",
    "        'model': model_name,\n",
    "        'best_score': clf.best_score_,\n",
    "        'best_params': clf.best_params_\n",
    "    })\n",
    "    \n",
    "results = pd.DataFrame(scores,columns=['model','best_score','best_params'])\n",
    "results"
   ]
  },
  {
   "cell_type": "code",
   "execution_count": 20,
   "metadata": {},
   "outputs": [],
   "source": [
    "# getting best result model and param\n"
   ]
  }
 ]
}